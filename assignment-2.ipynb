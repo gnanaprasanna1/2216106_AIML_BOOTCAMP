{
 "cells": [
  {
   "cell_type": "code",
   "execution_count": 1,
   "metadata": {},
   "outputs": [
    {
     "name": "stdout",
     "output_type": "stream",
     "text": [
      "true\n",
      "120\n"
     ]
    }
   ],
   "source": [
    "#if statement\n",
    "var=120\n",
    "if var>0:\n",
    "    print(\"true\")\n",
    "    print(var)\n",
    "    \n",
    "    \n",
    "var1=-1\n",
    "if var1>0:\n",
    "    print(\"true\")\n",
    "    print(var1)\n",
    "\n",
    "\n"
   ]
  },
  {
   "cell_type": "code",
   "execution_count": 2,
   "metadata": {},
   "outputs": [
    {
     "name": "stdout",
     "output_type": "stream",
     "text": [
      "false\n",
      "-13\n"
     ]
    }
   ],
   "source": [
    "#if...else statement\n",
    "var2=-13\n",
    "if var2>0:\n",
    "    print(\"true\")\n",
    "    print(var2)\n",
    "else:\n",
    "    print(\"false\")\n",
    "    print(var2)\n"
   ]
  },
  {
   "cell_type": "code",
   "execution_count": 3,
   "metadata": {},
   "outputs": [
    {
     "name": "stdout",
     "output_type": "stream",
     "text": [
      "enter the age=69\n",
      "full ticket+discount\n"
     ]
    }
   ],
   "source": [
    "#nested if statements\n",
    "#bus tickets\n",
    "age=int(input(\"enter the age=\"))\n",
    "if age>12 and age<=18:\n",
    "            if age<15:\n",
    "                print(\"quarter ticket implies\")\n",
    "            elif age==15:\n",
    "                print(\"quarter ticket+ discount\")\n",
    "            else:\n",
    "                print(\"half ticket\")\n",
    "elif age>=19 and age<=60:\n",
    "        print(\"full ticket\")\n",
    "elif age>60:\n",
    "        print(\"full ticket+discount\")\n",
    "else:\n",
    "        print(\"no ticket\")"
   ]
  },
  {
   "cell_type": "code",
   "execution_count": 4,
   "metadata": {},
   "outputs": [
    {
     "name": "stdout",
     "output_type": "stream",
     "text": [
      "sum is 48\n",
      "\n",
      "\n",
      "1\n",
      "2\n",
      "3\n",
      "4\n",
      "5\n",
      "6\n",
      "7\n",
      "8\n",
      "9\n",
      "10\n",
      "1\n",
      "3\n",
      "5\n",
      "7\n",
      "9\n",
      "\n",
      "\n",
      "[2, 4, 6, 8]\n",
      "0\n",
      "1\n",
      "5\n",
      "no items left\n",
      "\n",
      "\n",
      "current letter: p\n",
      "current letter: y\n",
      "current letter: t\n",
      "current letter: h\n",
      "current letter: o\n",
      "current letter: n\n",
      "\n",
      "\n",
      "current fruit: apple\n",
      "current fruit: banana\n",
      "current fruit: grapes\n"
     ]
    }
   ],
   "source": [
    "#for loop\n",
    "number=[6,5,3,8,4,2,5,4,11]\n",
    "sum=0\n",
    "for val in number:\n",
    "    sum=sum+val\n",
    "print(\"sum is\",sum)\n",
    "\n",
    "print(\"\\n\")\n",
    "\n",
    "for i in range(1,11):\n",
    "    print(i)\n",
    "    \n",
    "for i in range(1,11,2):\n",
    "    print(i)\n",
    "    \n",
    "print(\"\\n\")\n",
    "\n",
    "x=[2,3,4,5,6,7,8]\n",
    "y=[]\n",
    "for a in x:\n",
    "    if a%2==0:\n",
    "        y.append(a)\n",
    "print(y)\n",
    "\n",
    "\n",
    "#using statements in for loop\n",
    "digits=[0,1,5]\n",
    "for i in digits:\n",
    "    print(i)\n",
    "else:\n",
    "    print(\"no items left\")\n",
    "print(\"\\n\")\n",
    "\n",
    "for l in \"python\":\n",
    "    print(\"current letter:\",l)\n",
    "    \n",
    "print(\"\\n\")\n",
    "\n",
    "\n",
    "#iterating by sequence indexing\n",
    "fruit=['apple','banana','grapes']\n",
    "for index in range(len(fruit)):\n",
    "    print(\"current fruit:\",fruit[index])"
   ]
  },
  {
   "cell_type": "code",
   "execution_count": 5,
   "metadata": {},
   "outputs": [
    {
     "name": "stdout",
     "output_type": "stream",
     "text": [
      "[3, 11, 15]\n",
      "[5, 7, 9]\n",
      "[15, 16, 10]\n"
     ]
    }
   ],
   "source": [
    "#nested loops\n",
    "\n",
    "x=[[1,8,6],[1,2,3],[8,8,10]]\n",
    "\n",
    "y=[[2,3,9],[4,5,6],[7,8,0]]\n",
    "\n",
    "\n",
    "res=[[0,0,0],\n",
    "     \n",
    "     [0,0,0],[0,0,0]]\n",
    "\n",
    "for i in range(len(x)):\n",
    "    for j in range(len(x[0])):\n",
    "        res[i][j]=x[i][j]+y[i][j]\n",
    "for r in res:\n",
    "    print(r)\n"
   ]
  },
  {
   "cell_type": "code",
   "execution_count": 6,
   "metadata": {},
   "outputs": [
    {
     "name": "stdout",
     "output_type": "stream",
     "text": [
      "enter till which table you want to print=4\n",
      "TABLE 1\n",
      "1*1=1\n",
      "1*2=2\n",
      "1*3=3\n",
      "1*4=4\n",
      "1*5=5\n",
      "1*6=6\n",
      "1*7=7\n",
      "1*8=8\n",
      "1*9=9\n",
      "1*10=10\n",
      "__________________________\n",
      "TABLE 2\n",
      "2*1=2\n",
      "2*2=4\n",
      "2*3=6\n",
      "2*4=8\n",
      "2*5=10\n",
      "2*6=12\n",
      "2*7=14\n",
      "2*8=16\n",
      "2*9=18\n",
      "2*10=20\n",
      "__________________________\n",
      "TABLE 3\n",
      "3*1=3\n",
      "3*2=6\n",
      "3*3=9\n",
      "3*4=12\n",
      "3*5=15\n",
      "3*6=18\n",
      "3*7=21\n",
      "3*8=24\n",
      "3*9=27\n",
      "3*10=30\n",
      "__________________________\n",
      "TABLE 4\n",
      "4*1=4\n",
      "4*2=8\n",
      "4*3=12\n",
      "4*4=16\n",
      "4*5=20\n",
      "4*6=24\n",
      "4*7=28\n",
      "4*8=32\n",
      "4*9=36\n",
      "4*10=40\n",
      "__________________________\n"
     ]
    }
   ],
   "source": [
    "num=int(input(\"enter till which table you want to print=\"))\n",
    "i=1\n",
    "while(i<=num):\n",
    "    print(f\"TABLE {i}\")\n",
    "    j=1\n",
    "    while(j<=10):\n",
    "        print(f\"{i}*{j}={i*j}\")\n",
    "        j=j+1\n",
    "    print(\"__________________________\")\n",
    "    i=i+1"
   ]
  },
  {
   "cell_type": "code",
   "execution_count": 7,
   "metadata": {},
   "outputs": [
    {
     "name": "stdout",
     "output_type": "stream",
     "text": [
      "current value: 10\n",
      "current value: 9\n",
      "current value: 8\n",
      "current value: 7\n",
      "current value: 6\n"
     ]
    }
   ],
   "source": [
    "#control statements\n",
    "#break\n",
    "  \n",
    "for l in 'python':\n",
    "    if l== 'h':\n",
    "        break\n",
    "        print(\"current letter:\",l)\n",
    "        \n",
    "int1=10\n",
    "while(int1>0):\n",
    "    print(\"current value:\",int1)\n",
    "    int1=int1-1\n",
    "    if int1==5:\n",
    "        break\n",
    "    \n",
    "    "
   ]
  },
  {
   "cell_type": "code",
   "execution_count": 8,
   "metadata": {},
   "outputs": [
    {
     "name": "stdout",
     "output_type": "stream",
     "text": [
      "Finland\n",
      "Ireland\n"
     ]
    }
   ],
   "source": [
    "Countries_list=['Finland','Germany','Sweden','Ireland','Turkey']\n",
    "for i in Countries_list:\n",
    "    if \"and\" in i:\n",
    "         print(i)"
   ]
  },
  {
   "cell_type": "code",
   "execution_count": 9,
   "metadata": {},
   "outputs": [
    {
     "name": "stdout",
     "output_type": "stream",
     "text": [
      "enter the marks=50\n",
      "grade c\n"
     ]
    }
   ],
   "source": [
    "marks=int(input(\"enter the marks=\"))\n",
    "if marks>=90:\n",
    "    print(\"outstanding\")\n",
    "elif marks>=80 and marks<90:\n",
    "       print(\"grade A+\")\n",
    "elif marks>=70 and marks<80:\n",
    "        print(\"garde A\")\n",
    "elif marks>=60 and marks<70:\n",
    "        print(\"grade B\")\n",
    "elif marks<60 and marks>=50:\n",
    "       print(\"grade c\")\n",
    "   "
   ]
  },
  {
   "cell_type": "code",
   "execution_count": 12,
   "metadata": {},
   "outputs": [
    {
     "name": "stdout",
     "output_type": "stream",
     "text": [
      "['d', 'I', 't', 'A', 'g', 'A', 'a', 'P', 'k', 'A']\n"
     ]
    }
   ],
   "source": [
    "l=[\"Delhi\",\"Telangana\",\"Goa\",\"AP\",\"Kerala\"]\n",
    "l1=[]\n",
    "for i in l:\n",
    "    l1.append(i[0].lower())\n",
    "    l1.append(i[-1].upper())\n",
    "print(l1)"
   ]
  },
  {
   "cell_type": "code",
   "execution_count": 6,
   "metadata": {},
   "outputs": [
    {
     "name": "stdout",
     "output_type": "stream",
     "text": [
      "the count is 0\n",
      "the count is 1\n",
      "the count is 2\n",
      "the count is 3\n",
      "the count is 4\n",
      "the count is 5\n",
      "the count is 6\n",
      "the count is 7\n",
      "the count is 8\n",
      "the count is 9\n",
      "the count is 10\n",
      "0 is less than 5\n",
      "1 is less than 5\n",
      "2 is less than 5\n",
      "3 is less than 5\n",
      "4 is less than 5\n",
      "5 is not less than 5\n"
     ]
    }
   ],
   "source": [
    "#while\n",
    "count=0\n",
    "while(count<11):\n",
    "    print('the count is',count)\n",
    "    count=count+1\n",
    "count=0\n",
    "while(count<5):\n",
    "    print(count,\"is less than 5\")\n",
    "    count=count+1\n",
    "else:\n",
    "    print(count,\"is not less than 5\")"
   ]
  },
  {
   "cell_type": "code",
   "execution_count": 11,
   "metadata": {},
   "outputs": [
    {
     "name": "stdout",
     "output_type": "stream",
     "text": [
      "Current letter: P\n",
      "Current letter: y\n",
      "Current letter: t\n",
      "Current letter: o\n",
      "Current letter: n\n",
      "current value: 10\n",
      "current value: 9\n",
      "current value: 8\n",
      "current value: 7\n",
      "current value: 6\n",
      "current value: 5\n",
      "current value: 4\n",
      "current value: 3\n",
      "current value: 2\n",
      "current value: 1\n"
     ]
    }
   ],
   "source": [
    "#continue\n",
    "for l in 'Python':\n",
    "    if l == 'h':\n",
    "        continue \n",
    "    print(\"Current letter:\",l)\n",
    "int1=10\n",
    "while(int1>0): \n",
    "    print(\"current value:\",int1)\n",
    "    int1=int1-1\n",
    "    if int1==5:\n",
    "        continue"
   ]
  },
  {
   "cell_type": "code",
   "execution_count": 13,
   "metadata": {},
   "outputs": [
    {
     "name": "stdout",
     "output_type": "stream",
     "text": [
      "this is pass block\n",
      "Current letter: h\n",
      "current value: 10\n",
      "current value: 9\n",
      "current value: 8\n",
      "current value: 7\n",
      "current value: 6\n",
      "this is pass block\n",
      "current value: 5\n",
      "current value: 4\n",
      "current value: 3\n",
      "current value: 2\n",
      "current value: 1\n"
     ]
    }
   ],
   "source": [
    "#pass\n",
    "for l in 'Python':\n",
    "    if l == 'h':\n",
    "        pass\n",
    "        print(\"this is pass block\")\n",
    "        print(\"Current letter:\",l)\n",
    "int1=10\n",
    "while(int1>0):\n",
    "    print(\"current value:\",int1)\n",
    "    int1=int1-1\n",
    "    if int1==5:\n",
    "        print(\"this is pass block\")"
   ]
  },
  {
   "cell_type": "code",
   "execution_count": 17,
   "metadata": {},
   "outputs": [
    {
     "name": "stdout",
     "output_type": "stream",
     "text": [
      "Hello,\tSRK\tGood Morning\n"
     ]
    }
   ],
   "source": [
    "#user defined funtions\n",
    "def greet(name):\n",
    "        '''this function greets a person'''\n",
    "        print(\"Hello,\\t\"+name+\"\\tGood Morning\")\n",
    "greet(\"SRK\")"
   ]
  },
  {
   "cell_type": "code",
   "execution_count": 18,
   "metadata": {},
   "outputs": [
    {
     "name": "stdout",
     "output_type": "stream",
     "text": [
      "6\n",
      "12\n",
      "6\n"
     ]
    }
   ],
   "source": [
    "#default\n",
    "def A(a,b=1,c=2):\n",
    "    return a+b+c\n",
    "print(A(3))\n",
    "print(A(4,4,4))\n",
    "print(A(2,2))\n"
   ]
  },
  {
   "cell_type": "code",
   "execution_count": 19,
   "metadata": {},
   "outputs": [
    {
     "name": "stdout",
     "output_type": "stream",
     "text": [
      "7\n",
      "6\n"
     ]
    }
   ],
   "source": [
    "#keyword\n",
    "def A(a,b=1,c=2):\n",
    "    return a+b+c\n",
    "print(A(a=2,b=3))\n",
    "print(A(c=3,b=2,a=1))"
   ]
  },
  {
   "cell_type": "code",
   "execution_count": 20,
   "metadata": {},
   "outputs": [
    {
     "name": "stdout",
     "output_type": "stream",
     "text": [
      "60\n",
      "60\n"
     ]
    }
   ],
   "source": [
    "#positional\n",
    "def add(a,b,c):\n",
    "    return a+b+c\n",
    "print(add(10,20,30))\n",
    "print(add(10,b=20,c=30))"
   ]
  },
  {
   "cell_type": "code",
   "execution_count": 21,
   "metadata": {},
   "outputs": [
    {
     "name": "stdout",
     "output_type": "stream",
     "text": [
      "10\n",
      "{'Apples': 10, 'Oranges': 20, 'Grapes': 30}\n"
     ]
    }
   ],
   "source": [
    "#arbitrary keyword\n",
    "def key_arg(**kwargs):\n",
    "    return kwargs\n",
    "my_dict=key_arg(Apples=10,Oranges=20,Grapes=30)\n",
    "print(my_dict['Apples'])\n",
    "print(my_dict)"
   ]
  },
  {
   "cell_type": "code",
   "execution_count": 22,
   "metadata": {},
   "outputs": [
    {
     "name": "stdout",
     "output_type": "stream",
     "text": [
      "(5, 11)\n",
      "16\n",
      "HI, I AM HIGHER ORDER FUNCTION\n",
      "hi, i am higher order function\n"
     ]
    }
   ],
   "source": [
    "#arbitrary positional\n",
    "def add_num(*n):\n",
    "    print(n)\n",
    "    print(sum(n))\n",
    "add_num(5,11)\n",
    "\n",
    "\n",
    "#higher order functions\n",
    "def shout(text):\n",
    "    return text.upper()\n",
    "def whisper(text):\n",
    "    return text.lower()\n",
    "def explain(func):\n",
    "    greet=func(\"Hi, i am higher order function\")\n",
    "    print(greet)\n",
    "explain(shout)\n",
    "explain(whisper)\n"
   ]
  },
  {
   "cell_type": "code",
   "execution_count": 23,
   "metadata": {},
   "outputs": [
    {
     "name": "stdout",
     "output_type": "stream",
     "text": [
      "5\n",
      "5\n",
      "5\n"
     ]
    }
   ],
   "source": [
    "#lambda\n",
    "def incr(x):\n",
    "    x=x+1\n",
    "    return x\n",
    "print(incr(4))\n",
    "print((lambda x:x+1)(4))\n",
    "res=lambda x:x+1\n",
    "print(res(4))"
   ]
  },
  {
   "cell_type": "code",
   "execution_count": 24,
   "metadata": {},
   "outputs": [
    {
     "name": "stdout",
     "output_type": "stream",
     "text": [
      "4\n",
      "5\n",
      "5\n",
      "[3, 4, 5, 6, 7]\n",
      "[3, 4, 5, 6, 7]\n",
      "[3, 4, 5, 6, 7]\n"
     ]
    }
   ],
   "source": [
    "print((lambda x,y:x**y)(2,2))\n",
    "print((lambda x,y:x+y)(2,3))\n",
    "res=lambda x,y:x+y\n",
    "print(res(2,3))\n",
    "li=[1,2,3,4,5]\n",
    "\n",
    "#res=lambda x:x+2\n",
    "#print(res(li))\n",
    "def inc(num):\n",
    "    return num+2\n",
    "res_list=list(map(inc,li))\n",
    "print(res_list)\n",
    "res_list1=list(map(lambda x:x+2,li))\n",
    "print(res_list)\n",
    "print(list(map(lambda x:x+2,li)))"
   ]
  },
  {
   "cell_type": "code",
   "execution_count": 29,
   "metadata": {},
   "outputs": [
    {
     "data": {
      "text/plain": [
       "'the number 20 is even'"
      ]
     },
     "execution_count": 29,
     "metadata": {},
     "output_type": "execute_result"
    }
   ],
   "source": [
    "def eor(num):\n",
    "    if num%2==0:\n",
    "        return \"the number {} is even\".format(num)\n",
    "    else:\n",
    "        return \"the number {} is odd\".format(num)\n",
    "eor(20)"
   ]
  },
  {
   "cell_type": "code",
   "execution_count": 30,
   "metadata": {},
   "outputs": [
    {
     "data": {
      "text/plain": [
       "['the number 1 is odd',\n",
       " 'the number 2 is even',\n",
       " 'the number 3 is odd',\n",
       " 'the number 4 is even',\n",
       " 'the number 5 is odd',\n",
       " 'the number 6 is even',\n",
       " 'the number 7 is odd',\n",
       " 'the number 8 is even',\n",
       " 'the number 9 is odd',\n",
       " 'the number 10 is even']"
      ]
     },
     "execution_count": 30,
     "metadata": {},
     "output_type": "execute_result"
    }
   ],
   "source": [
    "l=[1,2,3,4,5,6,7,8,9,10]\n",
    "list(map(eor,l))\n"
   ]
  },
  {
   "cell_type": "code",
   "execution_count": 31,
   "metadata": {},
   "outputs": [
    {
     "name": "stdout",
     "output_type": "stream",
     "text": [
      "['Apple', 'Banana', 'Grapes']\n"
     ]
    }
   ],
   "source": [
    "li=['apple','banana','grapes']\n",
    "r=list(map(lambda x:x.capitalize(),li))\n",
    "print(r)"
   ]
  },
  {
   "cell_type": "code",
   "execution_count": 32,
   "metadata": {},
   "outputs": [
    {
     "name": "stdout",
     "output_type": "stream",
     "text": [
      "[9, 35]\n",
      "[18, 94, 16, 22, 56, 34]\n"
     ]
    }
   ],
   "source": [
    "#filter\n",
    "def odd_num(n):\n",
    "    if n%2!=0:\n",
    "        return n\n",
    "my_list=[9,26,35,-2,50]\n",
    "print(list(filter(odd_num,my_list)))\n",
    "my_list=[18,94,33,16,99,22,56,107,34]\n",
    "temp=list(filter(lambda x:x%2==0,my_list))\n",
    "print(temp)"
   ]
  },
  {
   "cell_type": "code",
   "execution_count": 33,
   "metadata": {},
   "outputs": [
    {
     "ename": "FileNotFoundError",
     "evalue": "[WinError 3] The system cannot find the path specified: '/content/hi'",
     "output_type": "error",
     "traceback": [
      "\u001b[1;31m---------------------------------------------------------------------------\u001b[0m",
      "\u001b[1;31mFileNotFoundError\u001b[0m                         Traceback (most recent call last)",
      "\u001b[1;32m<ipython-input-33-641521ab98a0>\u001b[0m in \u001b[0;36m<module>\u001b[1;34m\u001b[0m\n\u001b[0;32m      5\u001b[0m \u001b[0mos\u001b[0m\u001b[1;33m.\u001b[0m\u001b[0mgetcwd\u001b[0m\u001b[1;33m(\u001b[0m\u001b[1;33m)\u001b[0m\u001b[1;33m\u001b[0m\u001b[1;33m\u001b[0m\u001b[0m\n\u001b[0;32m      6\u001b[0m \u001b[0mos\u001b[0m\u001b[1;33m.\u001b[0m\u001b[0mlistdir\u001b[0m\u001b[1;33m(\u001b[0m\u001b[1;33m)\u001b[0m\u001b[1;33m\u001b[0m\u001b[1;33m\u001b[0m\u001b[0m\n\u001b[1;32m----> 7\u001b[1;33m \u001b[0mos\u001b[0m\u001b[1;33m.\u001b[0m\u001b[0mrmdir\u001b[0m\u001b[1;33m(\u001b[0m\u001b[1;34m\"/content/hi\"\u001b[0m\u001b[1;33m)\u001b[0m\u001b[1;33m\u001b[0m\u001b[1;33m\u001b[0m\u001b[0m\n\u001b[0m",
      "\u001b[1;31mFileNotFoundError\u001b[0m: [WinError 3] The system cannot find the path specified: '/content/hi'"
     ]
    }
   ],
   "source": [
    "#MODULES\n",
    "import os\n",
    "os.mkdir(\"hi\")\n",
    "os.chdir(\"hi\")\n",
    "os.getcwd()\n",
    "os.listdir()\n",
    "os.rmdir(\"/content/hi\")"
   ]
  },
  {
   "cell_type": "code",
   "execution_count": 34,
   "metadata": {},
   "outputs": [
    {
     "name": "stdout",
     "output_type": "stream",
     "text": [
      "3.141592653589793\n",
      "2.718281828459045\n",
      "2.0\n",
      "120\n",
      "4.0\n",
      "1\n",
      "-3.380515006246586\n",
      "0.6931471805599453\n"
     ]
    }
   ],
   "source": [
    "#math module\n",
    "import math as m\n",
    "print(m.pi)\n",
    "print(m.e)\n",
    "print(m.sqrt(4))\n",
    "print(m.factorial(5))\n",
    "print(m.pow(2,2))\n",
    "print(m.floor(1.4))\n",
    "print(m.tan(5))\n",
    "print(m.log(2))"
   ]
  },
  {
   "cell_type": "code",
   "execution_count": 35,
   "metadata": {},
   "outputs": [
    {
     "name": "stdout",
     "output_type": "stream",
     "text": [
      "['C:\\\\Users\\\\GYANA PRASANNA', 'C:\\\\Users\\\\GYANA PRASANNA\\\\anaconda3\\\\python38.zip', 'C:\\\\Users\\\\GYANA PRASANNA\\\\anaconda3\\\\DLLs', 'C:\\\\Users\\\\GYANA PRASANNA\\\\anaconda3\\\\lib', 'C:\\\\Users\\\\GYANA PRASANNA\\\\anaconda3', '', 'C:\\\\Users\\\\GYANA PRASANNA\\\\anaconda3\\\\lib\\\\site-packages', 'C:\\\\Users\\\\GYANA PRASANNA\\\\anaconda3\\\\lib\\\\site-packages\\\\win32', 'C:\\\\Users\\\\GYANA PRASANNA\\\\anaconda3\\\\lib\\\\site-packages\\\\win32\\\\lib', 'C:\\\\Users\\\\GYANA PRASANNA\\\\anaconda3\\\\lib\\\\site-packages\\\\Pythonwin', 'C:\\\\Users\\\\GYANA PRASANNA\\\\anaconda3\\\\lib\\\\site-packages\\\\IPython\\\\extensions', 'C:\\\\Users\\\\GYANA PRASANNA\\\\.ipython']\n",
      "3.8.5 (default, Sep  3 2020, 21:29:08) [MSC v.1916 64 bit (AMD64)]\n",
      "9223372036854775807\n"
     ]
    }
   ],
   "source": [
    "#sys module\n",
    "import sys\n",
    "print(sys.path)\n",
    "print(sys.version)\n",
    "print(sys.maxsize)"
   ]
  },
  {
   "cell_type": "code",
   "execution_count": 37,
   "metadata": {},
   "outputs": [
    {
     "name": "stdout",
     "output_type": "stream",
     "text": [
      "28\n",
      "3\n",
      "1\n"
     ]
    }
   ],
   "source": [
    "#statistics module\n",
    "import statistics as st\n",
    "print(st.mean([21,29,34]))\n",
    "print(st.median([1,2,3,4,5]))\n",
    "print(st.mode([1,2,3,1,1]))"
   ]
  },
  {
   "cell_type": "code",
   "execution_count": 40,
   "metadata": {},
   "outputs": [
    {
     "name": "stdout",
     "output_type": "stream",
     "text": [
      "1655223405.4508953\n",
      "time.struct_time(tm_year=2022, tm_mon=6, tm_mday=14, tm_hour=21, tm_min=46, tm_sec=45, tm_wday=1, tm_yday=165, tm_isdst=0)\n",
      "Tue Jun 14 21:46:45 2022\n",
      "Tue Jun 14 21:46:45 2022\n",
      "None\n"
     ]
    }
   ],
   "source": [
    "#time module\n",
    "import time\n",
    "print(time.time())\n",
    "print(time.localtime())\n",
    "print(time.asctime())\n",
    "print(time.ctime())\n",
    "print(time.sleep(1.5))"
   ]
  },
  {
   "cell_type": "code",
   "execution_count": 42,
   "metadata": {},
   "outputs": [
    {
     "name": "stdout",
     "output_type": "stream",
     "text": [
      "4\n",
      "78\n",
      "0.3157504537261697\n"
     ]
    }
   ],
   "source": [
    "#random module\n",
    "import random\n",
    "print(random.randrange(1,50))\n",
    "print(random.randint(1,100))\n",
    "print(random.random())"
   ]
  },
  {
   "cell_type": "code",
   "execution_count": 44,
   "metadata": {},
   "outputs": [
    {
     "name": "stdout",
     "output_type": "stream",
     "text": [
      "PREDICT A NUMBER6\n",
      " you lost\n"
     ]
    }
   ],
   "source": [
    "import random\n",
    "g_num=random.randint(0,5)\n",
    "g2_num=int(input(\"PREDICT A NUMBER\"))\n",
    "if g2_num==g_num:\n",
    "    print(\"you won\")\n",
    "else:\n",
    "    print(\" you lost\")\n"
   ]
  },
  {
   "cell_type": "code",
   "execution_count": null,
   "metadata": {},
   "outputs": [],
   "source": []
  }
 ],
 "metadata": {
  "kernelspec": {
   "display_name": "Python 3",
   "language": "python",
   "name": "python3"
  },
  "language_info": {
   "codemirror_mode": {
    "name": "ipython",
    "version": 3
   },
   "file_extension": ".py",
   "mimetype": "text/x-python",
   "name": "python",
   "nbconvert_exporter": "python",
   "pygments_lexer": "ipython3",
   "version": "3.8.5"
  }
 },
 "nbformat": 4,
 "nbformat_minor": 4
}
