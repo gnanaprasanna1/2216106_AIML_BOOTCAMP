{
 "cells": [
  {
   "cell_type": "code",
   "execution_count": 7,
   "metadata": {},
   "outputs": [
    {
     "name": "stdout",
     "output_type": "stream",
     "text": [
      "addition of 2 num is 10\n",
      "sub of 2 num is 5\n"
     ]
    }
   ],
   "source": [
    "#class &objects\n",
    "class CO:\n",
    "    def subn(self,a,b):\n",
    "          return a-b\n",
    "    def addn(self,a,b):\n",
    "          return a+b\n",
    "obj=CO()\n",
    "print(\"addition of 2 num is\",obj.addn(5,5))\n",
    "print(\"sub of 2 num is\",obj.subn(10,5))"
   ]
  },
  {
   "cell_type": "code",
   "execution_count": 11,
   "metadata": {},
   "outputs": [
    {
     "name": "stdout",
     "output_type": "stream",
     "text": [
      "demonstrates class creation\n",
      "method invokation\n",
      "return string to object\n"
     ]
    }
   ],
   "source": [
    "class c1:\n",
    "    '''description'''\n",
    "    class_var=\"demonstrates class creation\"\n",
    "    def cm(self):\n",
    "        return\"method invokation\"\n",
    "    def __str__(self):\n",
    "        return \"return string to object\"\n",
    "obj1=c1()\n",
    "print(obj1.class_var)\n",
    "print(obj1.cm())\n",
    "print(obj1)"
   ]
  },
  {
   "cell_type": "code",
   "execution_count": 12,
   "metadata": {},
   "outputs": [
    {
     "name": "stdout",
     "output_type": "stream",
     "text": [
      "Addition of 2 numbers is 10\n",
      "sub of 2 numbers is -5\n",
      "mul of 2 numbers is 300\n",
      "div of 2 numbers is 2.0\n",
      "mo of 2 numbers is 5\n",
      "float div of 2 numbers is -5\n",
      "power of 2 numbers is 5\n"
     ]
    }
   ],
   "source": [
    "class arth:\n",
    "    def subn(self,a,b):\n",
    "        return a-b\n",
    "    def addn(self,a,b):\n",
    "        return a+b\n",
    "    def mul(self,a,b):\n",
    "        return a*b\n",
    "    def div(self,a,b):\n",
    "        return a/b\n",
    "    def mo(self,a,b):\n",
    "        return a%b\n",
    "    def fl(self,a,b):\n",
    "        return a//b\n",
    "    def po(self,a,b):\n",
    "        return a**b\n",
    "obj=arth()\n",
    "print(\"Addition of 2 numbers is\",obj.addn(5,5))\n",
    "print(\"sub of 2 numbers is\",obj.subn(15,20))\n",
    "print(\"mul of 2 numbers is\",obj.mul(15,20))\n",
    "print(\"div of 2 numbers is\",obj.div(10,5))\n",
    "print(\"mo of 2 numbers is\",obj.subn(10,5))\n",
    "print(\"float div of 2 numbers is\",obj.subn(15,20))\n",
    "print(\"power of 2 numbers is\",obj.subn(10,5))"
   ]
  },
  {
   "cell_type": "code",
   "execution_count": 13,
   "metadata": {},
   "outputs": [
    {
     "name": "stdout",
     "output_type": "stream",
     "text": [
      "CAT makes soundMEOW\n"
     ]
    }
   ],
   "source": [
    "#inheritance\n",
    "\n",
    "#single\n",
    "class Animal:\n",
    "    def animal_sounds(self):\n",
    "        return \"makes sound\"\n",
    "class cat(Animal):\n",
    "    def cat_sound(self):\n",
    "        return self.animal_sounds()+\"MEOW\"\n",
    "    def __str__(self):\n",
    "        return \"CAT\"\n",
    "\n",
    "catobj=cat()\n",
    "print(catobj,catobj.cat_sound())"
   ]
  },
  {
   "cell_type": "code",
   "execution_count": 14,
   "metadata": {},
   "outputs": [
    {
     "name": "stdout",
     "output_type": "stream",
     "text": [
      "CAT makes sound meow\n",
      "DOG makes sound BOW\n"
     ]
    }
   ],
   "source": [
    "#multi level inheritence\n",
    "class animal:\n",
    "    def animal_sounds(self):\n",
    "         return \"makes sound\"\n",
    "class cat(animal):\n",
    "    def cat_sound(self):\n",
    "         return self.animal_sounds() + \" meow\"\n",
    "    def __str__(self):\n",
    "         return \"CAT\"\n",
    "\n",
    "class dog(animal):\n",
    "    def dog_sound(self):\n",
    "        return self.animal_sounds() + \" BOW\"\n",
    "    def __str__(self):\n",
    "        return \"DOG\"\n",
    "catobj=cat()\n",
    "print(catobj,catobj.cat_sound())\n",
    "dogobj=dog()\n",
    "print(dogobj,dogobj.dog_sound())"
   ]
  },
  {
   "cell_type": "code",
   "execution_count": 15,
   "metadata": {},
   "outputs": [
    {
     "name": "stdout",
     "output_type": "stream",
     "text": [
      "CAT makes sound meow\n",
      "CAT color is black\n"
     ]
    }
   ],
   "source": [
    "#multilevel inheritance \n",
    "class Animal:\n",
    "    def animal_sounds(self):\n",
    "        return \"makes sound\"\n",
    "class Cat(Animal):\n",
    "    def cat_sound(self):\n",
    "        return self.animal_sounds()+\"MEOW\"\n",
    "class CatColor(cat):\n",
    "    def __str__(self):\n",
    "        return \"CAT\"\n",
    "    def color(self):\n",
    "        return \"color is black\"\n",
    "catcolor=CatColor()\n",
    "print(catcolor,catcolor.cat_sound())\n",
    "print(catcolor,catcolor.color())"
   ]
  },
  {
   "cell_type": "code",
   "execution_count": 16,
   "metadata": {},
   "outputs": [
    {
     "name": "stdout",
     "output_type": "stream",
     "text": [
      "DOG makes soundBOW\n",
      "DOG color is black\n"
     ]
    }
   ],
   "source": [
    "class Animal:\n",
    "    def animal_sounds(self):\n",
    "        return \"makes sound\"\n",
    "class Dog(Animal):\n",
    "    def Dog_sound(self):\n",
    "        return self.animal_sounds()+\"BOW\"\n",
    "class DogColor(Dog):\n",
    "    def __str__(self):\n",
    "        return \"DOG\"\n",
    "    def color(self):\n",
    "        return \"color is black\"\n",
    "dogcolor=DogColor()\n",
    "print(dogcolor,dogcolor.Dog_sound())\n",
    "print(dogcolor,dogcolor.color())"
   ]
  },
  {
   "cell_type": "code",
   "execution_count": 17,
   "metadata": {},
   "outputs": [
    {
     "name": "stdout",
     "output_type": "stream",
     "text": [
      "exception occurred name 'yash' is not defined\n",
      "executed\n"
     ]
    }
   ],
   "source": [
    "#exceptions\n",
    "#name \n",
    "try:\n",
    "    print(yash)\n",
    "except NameError as ne:\n",
    "    print(\"exception occurred\",ne)\n",
    "print(\"executed\")"
   ]
  },
  {
   "cell_type": "code",
   "execution_count": 18,
   "metadata": {},
   "outputs": [
    {
     "name": "stdout",
     "output_type": "stream",
     "text": [
      "invalid literal for int() with base 10: '25 xyz'\n"
     ]
    }
   ],
   "source": [
    "#vaulue error\n",
    "a='25 xyz'\n",
    "try:\n",
    "    print(int(a))\n",
    "except ValueError as e:\n",
    "    print(e)"
   ]
  },
  {
   "cell_type": "code",
   "execution_count": 19,
   "metadata": {},
   "outputs": [
    {
     "name": "stdout",
     "output_type": "stream",
     "text": [
      "enter student id=2003\n",
      "details verified\n"
     ]
    }
   ],
   "source": [
    "#exception handing\n",
    "#2003\n",
    "class instud(Exception):\n",
    "    pass\n",
    "stid=input(\"enter student id=\")\n",
    "try:\n",
    "    if stid[:4]!=\"2003\":\n",
    "        raise instud\n",
    "except instud:\n",
    "    print(\"error raised due to invalid details\")\n",
    "print(\"details verified\")"
   ]
  },
  {
   "cell_type": "code",
   "execution_count": 20,
   "metadata": {},
   "outputs": [
    {
     "name": "stdout",
     "output_type": "stream",
     "text": [
      "enter student id=2002\n",
      "error raised due to invalid details\n",
      "details verified\n"
     ]
    }
   ],
   "source": [
    "class instud(Exception):\n",
    "    def __str__(self):\n",
    "        return \"ERROR RAISED\"\n",
    "stid=input(\"enter student id=\")\n",
    "try:\n",
    "    if stid[:4]!=\"2003\":\n",
    "        raise instud\n",
    "except instud:\n",
    "     print(\"error raised due to invalid details\")\n",
    "print(\"details verified\")"
   ]
  },
  {
   "cell_type": "code",
   "execution_count": 21,
   "metadata": {},
   "outputs": [
    {
     "name": "stdout",
     "output_type": "stream",
     "text": [
      "enter student id=18\n",
      "error raised due to invalid details\n",
      "You can vote\n"
     ]
    }
   ],
   "source": [
    "class vote(Exception):\n",
    "     pass\n",
    "age=input(\"enter student id=\")\n",
    "try:\n",
    "    if age[:4]<=\"18\":\n",
    "        raise vote\n",
    "except vote:\n",
    "    print(\"error raised due to invalid details\")\n",
    "print(\"You can vote\")"
   ]
  },
  {
   "cell_type": "code",
   "execution_count": 22,
   "metadata": {},
   "outputs": [],
   "source": [
    "f=open(\"sample.txt\",\"x\")\n",
    "f.write(\"welcome\")\n",
    "f.close()"
   ]
  },
  {
   "cell_type": "code",
   "execution_count": 23,
   "metadata": {},
   "outputs": [
    {
     "name": "stdout",
     "output_type": "stream",
     "text": [
      "welcome\n"
     ]
    }
   ],
   "source": [
    "f=open(\"sample.txt\",\"r\")\n",
    "print(f.read())\n",
    "f.close()"
   ]
  },
  {
   "cell_type": "code",
   "execution_count": 24,
   "metadata": {},
   "outputs": [],
   "source": [
    "import os\n",
    "os.remove(\"sample.txt\")"
   ]
  },
  {
   "cell_type": "code",
   "execution_count": 25,
   "metadata": {},
   "outputs": [],
   "source": [
    "f=open(\"sample.txt\",\"x\")\n",
    "f.write(\"welcome\")\n",
    "f.close()"
   ]
  },
  {
   "cell_type": "code",
   "execution_count": 26,
   "metadata": {},
   "outputs": [
    {
     "name": "stdout",
     "output_type": "stream",
     "text": [
      "wel\n",
      "3\n",
      "2\n",
      "0\n",
      "welcome\n",
      "[]\n"
     ]
    }
   ],
   "source": [
    "f=open(\"sample.txt\",\"r\")\n",
    "print(f.read(3))\n",
    "print(f.tell())#tells where cursor is\n",
    "print(f.seek(2))#moves cursir to desired position \n",
    "print(f.seek(0))\n",
    "print(f.readline())\n",
    "print(f.readlines())\n",
    "f.close()"
   ]
  },
  {
   "cell_type": "code",
   "execution_count": 27,
   "metadata": {},
   "outputs": [],
   "source": [
    "#copy paste\n",
    "f1=open(\"f24.txt\",\"x\")\n",
    "f2=open(\"f23.txt\",\"x\")"
   ]
  },
  {
   "cell_type": "code",
   "execution_count": 28,
   "metadata": {},
   "outputs": [],
   "source": [
    "f1=open(\"f23.txt\",\"w\")\n",
    "f1.write(\"Copypaste\")\n",
    "f1.close()"
   ]
  },
  {
   "cell_type": "code",
   "execution_count": 29,
   "metadata": {},
   "outputs": [],
   "source": [
    "f1=open(\"f23.txt\",\"r\")\n",
    "temp=f1.read()\n",
    "f1.close()\n",
    "\n",
    "f2=open(\"f24.txt\",\"w\")\n",
    "f2.write(temp)\n",
    "f2.close()"
   ]
  },
  {
   "cell_type": "code",
   "execution_count": 30,
   "metadata": {},
   "outputs": [
    {
     "name": "stdout",
     "output_type": "stream",
     "text": [
      "['a', 'b', 'c', 'd']\n"
     ]
    }
   ],
   "source": [
    "#pickle\n",
    "import pickle\n",
    "myl=['a','b','c','d']\n",
    "f4=open(\"datafile1.txt\",\"wb\")\n",
    "pickle.dump(myl,f4)\n",
    "f4.close()\n",
    "\n",
    "#unpickling\n",
    "import pickle\n",
    "picke_off=open(\"datafile1.txt\",\"rb\")\n",
    "e=pickle.load(picke_off)\n",
    "print(e)"
   ]
  },
  {
   "cell_type": "code",
   "execution_count": 31,
   "metadata": {},
   "outputs": [
    {
     "name": "stdout",
     "output_type": "stream",
     "text": [
      "NOT A MATCH\n"
     ]
    }
   ],
   "source": [
    "#regular expressions\n",
    "import re\n",
    "pattern=r\"COOKIE\"\n",
    "sequence=(\"Cookie\")\n",
    "if re.match(pattern,sequence):\n",
    "     print(\"MATCHING\")\n",
    "else:\n",
    "     print(\"NOT A MATCH\")"
   ]
  },
  {
   "cell_type": "code",
   "execution_count": 32,
   "metadata": {},
   "outputs": [
    {
     "name": "stdout",
     "output_type": "stream",
     "text": [
      "Enter a number=9876543210\n",
      "9876543210\n"
     ]
    }
   ],
   "source": [
    "import re\n",
    "phone=input(\"Enter a number=\")\n",
    "print(re.search(r'\\d{10}',phone).group())\n"
   ]
  },
  {
   "cell_type": "code",
   "execution_count": null,
   "metadata": {},
   "outputs": [],
   "source": []
  }
 ],
 "metadata": {
  "kernelspec": {
   "display_name": "Python 3",
   "language": "python",
   "name": "python3"
  },
  "language_info": {
   "codemirror_mode": {
    "name": "ipython",
    "version": 3
   },
   "file_extension": ".py",
   "mimetype": "text/x-python",
   "name": "python",
   "nbconvert_exporter": "python",
   "pygments_lexer": "ipython3",
   "version": "3.8.5"
  }
 },
 "nbformat": 4,
 "nbformat_minor": 4
}
