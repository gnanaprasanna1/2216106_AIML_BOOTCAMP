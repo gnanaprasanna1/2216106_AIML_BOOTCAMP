{
 "cells": [
  {
   "cell_type": "code",
   "execution_count": 2,
   "metadata": {},
   "outputs": [
    {
     "name": "stdout",
     "output_type": "stream",
     "text": [
      "l\n",
      "i\n",
      "beautiful\n",
      "prasanna\n",
      "prasanna \n",
      "  prasanna\n",
      "SCARY\n",
      "scary\n",
      "Scary\n",
      "SCARY\n",
      "Scary\n"
     ]
    }
   ],
   "source": [
    "#Implement the methods of String with examples\n",
    "\n",
    "str='beautiful'\n",
    "#indexing\n",
    "print(str[-1])\n",
    "print(str[5])\n",
    "#slicing \n",
    "print(str[:])\n",
    "#strip()\n",
    "s1='  prasanna '\n",
    "print(s1.strip())\n",
    "print(s1.lstrip())\n",
    "print(s1.rstrip()) \n",
    "s2='scary'\n",
    "print(s2.upper()) \n",
    "print(s2.lower())\n",
    "print(s2.capitalize()) \n",
    "print(s2.swapcase())\n",
    "print(s2.title())"
   ]
  },
  {
   "cell_type": "code",
   "execution_count": 8,
   "metadata": {},
   "outputs": [
    {
     "name": "stdout",
     "output_type": "stream",
     "text": [
      "[5, 2, 8, 4]\n",
      "4\n",
      "[5, 2, 8, 4, 'hola']\n",
      "[5, 2, 8, 4, 'hola', 1, 3, 6]\n",
      "[5, 2, 8, 4, 9, 'hola', 1, 3, 6]\n",
      "[5, 2, 8, 4, 9, 1, 3, 6]\n",
      "[5, 2, 8, 9, 1, 3, 6]\n",
      "[6, 3, 1, 9, 8, 2, 5]\n",
      "[1, 2, 3, 5, 6, 8, 9]\n",
      "[]\n"
     ]
    }
   ],
   "source": [
    "#Implement the methods of List with examples.\n",
    "\n",
    "l=[5,2,8,4]\n",
    "print(l)\n",
    "print(len(l))\n",
    "l.append('hola')\n",
    "print(l)\n",
    "l.extend([1,3,6])\n",
    "print(l)\n",
    "l.insert(4,9)\n",
    "print(l)\n",
    "l.pop(5)\n",
    "print(l)\n",
    "l.remove(4)\n",
    "print(l)\n",
    "l.reverse()\n",
    "print(l)\n",
    "l.sort()\n",
    "print(l)\n",
    "l.clear()\n",
    "print(l)"
   ]
  },
  {
   "cell_type": "code",
   "execution_count": 10,
   "metadata": {},
   "outputs": [
    {
     "name": "stdout",
     "output_type": "stream",
     "text": [
      "('surya', 'megha', 'sreeya', 23, 36)\n",
      "5\n",
      "31\n",
      "35\n",
      "(32, 33, 34, 35)\n",
      "36\n",
      "31\n",
      "4\n",
      "0\n"
     ]
    }
   ],
   "source": [
    "#)Implement the methods of Tuple with examples\n",
    "\n",
    "t=('surya','megha','sreeya',23,36)\n",
    "print(t)\n",
    "print(len(t))\n",
    "t1=(31,32,33,34,35,36)\n",
    "#indexing\n",
    "print(t1[0])\n",
    "print(t1[-2])\n",
    "#slicing \n",
    "print(t1[1:5])\n",
    "print(max(t1))\n",
    "print(min(t1))\n",
    "print(t1.index(35))\n",
    "print(t1.count(30))"
   ]
  },
  {
   "cell_type": "code",
   "execution_count": 11,
   "metadata": {},
   "outputs": [
    {
     "name": "stdout",
     "output_type": "stream",
     "text": [
      "{1: 1, 2: 4, 3: 9, 4: 196, 5: 125, 'name': 'pras', 'roll': 36, 'address': 'wgl'}\n",
      "dict_items([(1, 1), (2, 4), (3, 9), (4, 196), (5, 125), ('name', 'pras'), ('roll', 36), ('address', 'wgl')])\n",
      "dict_keys([1, 2, 3, 4, 5, 'name', 'roll', 'address'])\n",
      "('address', 'wgl')\n",
      "dict_values([1, 4, 9, 196, 125, 'pras', 36])\n",
      "None\n"
     ]
    }
   ],
   "source": [
    "#Implement the methods of Dictionary with examples.\n",
    "\n",
    "dic={1:1,2:4,3:9,4:196,5:125,'name':'pras','roll':36,'address':'wgl'}\n",
    "print(dic)\n",
    "print(dic.items())\n",
    "print(dic.keys())\n",
    "print(dic.popitem())\n",
    "print(dic.values())\n",
    "print(dic.get('address'))"
   ]
  },
  {
   "cell_type": "code",
   "execution_count": 13,
   "metadata": {},
   "outputs": [
    {
     "name": "stdout",
     "output_type": "stream",
     "text": [
      "{6, 8, 9, 10, 11}\n",
      "{6, 8, 9, 10, 11, 12}\n",
      "{6, 9, 10, 11, 12}\n",
      "{9, 10, 11, 12}\n",
      "{1, 2, 4, 5, 9, 10, 11, 12}\n",
      "{1, 2, 4, 5, 9, 10, 11, 12}\n",
      "{1, 2, 4, 5, 9, 10, 11, 12}\n",
      "{9, 10}\n",
      "{9, 10}\n",
      "{9, 10}\n",
      "{11, 12}\n",
      "{11, 12}\n"
     ]
    }
   ],
   "source": [
    "#Implement the methods of Set with examples.\n",
    "\n",
    "s={8,9,10,11}\n",
    "s.add(6)\n",
    "print(s)\n",
    "s.update([12,12,8,9,6])\n",
    "print(s)\n",
    "s.remove(8)\n",
    "print(s)\n",
    "s.discard(6)\n",
    "print(s)\n",
    "s1={4,5,1,2,9,10}\n",
    "\n",
    "#union\n",
    "print(s|s1)\n",
    "print(s.union(s1))\n",
    "print(s1.union(s))\n",
    "\n",
    "#intersection\n",
    "print(s&s1)\n",
    "print(s.intersection(s1))\n",
    "print(s1.intersection(s))\n",
    "\n",
    "#difference\n",
    "print(s-s1)\n",
    "print(s.difference(s1))\n",
    "\n"
   ]
  },
  {
   "cell_type": "code",
   "execution_count": 14,
   "metadata": {},
   "outputs": [
    {
     "name": "stdout",
     "output_type": "stream",
     "text": [
      "Enter a number:16\n",
      "0b10000\n",
      "0o20\n",
      "0x10\n"
     ]
    }
   ],
   "source": [
    "#Write a python program to convert Decimal to Binary, Octal and Hexadecimal with direct method.\n",
    "\n",
    "num=int(input(\"Enter a number:\"))\n",
    "print(bin(num))\n",
    "print(oct(num))\n",
    "print(hex(num))"
   ]
  },
  {
   "cell_type": "code",
   "execution_count": 15,
   "metadata": {},
   "outputs": [
    {
     "name": "stdout",
     "output_type": "stream",
     "text": [
      "Enter a number:100\n",
      "Enter a number:50\n",
      "150\n",
      "5000\n",
      "2.0\n",
      "0\n",
      "10000000000000000000000000000000000000000000000000000000000000000000000000000000000000000000000000000\n",
      "2\n",
      "50\n"
     ]
    }
   ],
   "source": [
    "#Implement Arithmetic operators with examples\n",
    "\n",
    "a=int(input(\"Enter a number:\"))\n",
    "b=int(input(\"Enter a number:\"))\n",
    "print(a+b)\n",
    "print(a*b)\n",
    "print(a/b)\n",
    "print(a%b)\n",
    "print(a**b)\n",
    "print(a//b)\n",
    "print(abs(a-b))\n"
   ]
  },
  {
   "cell_type": "code",
   "execution_count": 16,
   "metadata": {},
   "outputs": [
    {
     "name": "stdout",
     "output_type": "stream",
     "text": [
      "200\n",
      "208\n",
      "199\n",
      "1990\n",
      "180.9090909090909\n",
      "0.9090909090909065\n",
      "150\n",
      "506250000\n"
     ]
    }
   ],
   "source": [
    "#Implement Assignment operators with examples.\n",
    "\n",
    "x=200\n",
    "y=300\n",
    "print(x)\n",
    "x+=8\n",
    "print(x)\n",
    "x-=9\n",
    "print(x)\n",
    "x*=10\n",
    "print(x)\n",
    "x/=11\n",
    "print(x)\n",
    "x%=6\n",
    "print(x)\n",
    "y//=2\n",
    "print(y)\n",
    "y**=4\n",
    "print(y)"
   ]
  },
  {
   "cell_type": "code",
   "execution_count": 17,
   "metadata": {},
   "outputs": [
    {
     "name": "stdout",
     "output_type": "stream",
     "text": [
      "False\n",
      "True\n",
      "True\n",
      "False\n",
      "True\n",
      "False\n"
     ]
    }
   ],
   "source": [
    "#Implement Comparison operators with examples.\n",
    "\n",
    "x1=\"true\"\n",
    "y1=\"false\"\n",
    "print(x1==y1)\n",
    "print(x1!=y1)\n",
    "print(x1>y1)\n",
    "print(x1<y1)\n",
    "print(x1>=y1)\n",
    "print(x1<=y1)"
   ]
  },
  {
   "cell_type": "code",
   "execution_count": 18,
   "metadata": {},
   "outputs": [
    {
     "name": "stdout",
     "output_type": "stream",
     "text": [
      "False\n",
      "True\n",
      "True\n"
     ]
    }
   ],
   "source": [
    "#Implement Logical operators with examples.\n",
    "\n",
    "a1=111\n",
    "b1=20\n",
    "print(a1==20 and b1==111)\n",
    "print(a1==111 or b1==20)\n",
    "print(not a1==b1)"
   ]
  },
  {
   "cell_type": "code",
   "execution_count": 19,
   "metadata": {},
   "outputs": [
    {
     "name": "stdout",
     "output_type": "stream",
     "text": [
      "False\n",
      "1\n",
      "False\n",
      "1\n",
      "6\n",
      "-4\n",
      "0\n",
      "20\n"
     ]
    }
   ],
   "source": [
    "#Implement Bitwise operators with examples\n",
    "\n",
    "c=3\n",
    "d=5\n",
    "print(c==9 & d==10)\n",
    "print(c&d)\n",
    "print(c==3|d==5)\n",
    "print(c&d)\n",
    "print(c^d)\n",
    "print(~c)\n",
    "print(c>>2)\n",
    "print(d<<2)"
   ]
  },
  {
   "cell_type": "code",
   "execution_count": 20,
   "metadata": {},
   "outputs": [
    {
     "name": "stdout",
     "output_type": "stream",
     "text": [
      "True\n",
      "False\n",
      "True\n",
      "True\n",
      "False\n",
      "True\n"
     ]
    }
   ],
   "source": [
    "#Implement Membership operators with examples\n",
    "\n",
    "st1=\"bonjour\"\n",
    "print('r' in st1)\n",
    "print('l' in st1)\n",
    "print(\"our\" in st1)\n",
    "print('t' not in st1)\n",
    "print('j' not in st1)\n",
    "print(\"onb\" not in st1)"
   ]
  },
  {
   "cell_type": "code",
   "execution_count": 24,
   "metadata": {},
   "outputs": [
    {
     "name": "stdout",
     "output_type": "stream",
     "text": [
      "False\n",
      "True\n"
     ]
    }
   ],
   "source": [
    "#Implement Identity operators with examples\n",
    "\n",
    "e=48\n",
    "f='201'\n",
    "print(e is f)\n",
    "print(e is not f)\n"
   ]
  },
  {
   "cell_type": "code",
   "execution_count": 26,
   "metadata": {},
   "outputs": [
    {
     "name": "stdout",
     "output_type": "stream",
     "text": [
      "icecream\n",
      "35\n",
      "55\n",
      "[65, 55, 45, 35, 25, 'icecream']\n",
      "['icecream', 25, 35, 45, 55, 65, 75]\n"
     ]
    }
   ],
   "source": [
    "#Demonstrate Negative indexing for List and apply slicing.\n",
    "\n",
    "l1=[75,65,55,45,35,25,'icecream']\n",
    "# negative indexing\n",
    "print(l1[-1])\n",
    "print(l1[-3])\n",
    "print(l1[-5])\n",
    "#slicing\n",
    "print(l1[1:])\n",
    "print(l1[::-1])"
   ]
  },
  {
   "cell_type": "code",
   "execution_count": 27,
   "metadata": {},
   "outputs": [
    {
     "name": "stdout",
     "output_type": "stream",
     "text": [
      "taawkcbe  tgestrcoeeA\n",
      "------------\n",
      "ot emoc\n"
     ]
    }
   ],
   "source": [
    "#redict the output for the given code snippet and justify the result.\n",
    "\n",
    "print( 'A series of characters designated as one object known as a string'[::-1][4::3] )\n",
    "#[::-1] it is for reversing and [4::3] it starts from 4 th index with step size as 3\n",
    "print(\"------------\")\n",
    "print( 'welcome to Python traing program'[3:10][::-1])\n",
    "#[3:10] it starts from 3 rd index and stops at 10 th index and the it will rever"
   ]
  },
  {
   "cell_type": "code",
   "execution_count": 28,
   "metadata": {},
   "outputs": [
    {
     "name": "stdout",
     "output_type": "stream",
     "text": [
      "WAS I TAC A RO RAC A TI SAW\n"
     ]
    }
   ],
   "source": [
    "#)Write a python code to get desired output; Input string : p_phrase = \"was it a car or a cat I saw\"; Output string : WAS I TAC A RO RAC A TI SAW\n",
    "\n",
    "p_phrase=\"was it a car or a cat I saw\"\n",
    "str22=p_phrase.upper()\n",
    "print(str22[::-1])"
   ]
  },
  {
   "cell_type": "code",
   "execution_count": 29,
   "metadata": {},
   "outputs": [
    {
     "name": "stdout",
     "output_type": "stream",
     "text": [
      "Enter a number=2\n",
      "x= 2\n",
      "y= 4\n",
      "ZZOOOO\n"
     ]
    }
   ],
   "source": [
    "#You are required to generate a word similar to ZOO, X and Y that denote the number of Zs and Os respectively. The generated word similar to ZOO where Y= 2 * X. Input X= 2 Output ZZOOOO Input X= 5 Output ZZZZZOOOOOOOOOO\n",
    "\n",
    "x=int(input(\"Enter a number=\"))\n",
    "y=2*x\n",
    "print('x=',x)\n",
    "print('y=',y)\n",
    "print('Z'*x,'O'*y,sep='')"
   ]
  },
  {
   "cell_type": "code",
   "execution_count": 30,
   "metadata": {},
   "outputs": [
    {
     "name": "stdout",
     "output_type": "stream",
     "text": [
      "Enter a number=5\n",
      "x= 5\n",
      "y= 10\n",
      "ZZZZZOOOOOOOOOO\n"
     ]
    }
   ],
   "source": [
    "x=int(input(\"Enter a number=\"))\n",
    "y=2*x\n",
    "print('x=',x)\n",
    "print('y=',y)\n",
    "print('Z'*x,'O'*y,sep='')"
   ]
  },
  {
   "cell_type": "code",
   "execution_count": null,
   "metadata": {},
   "outputs": [],
   "source": []
  }
 ],
 "metadata": {
  "kernelspec": {
   "display_name": "Python 3",
   "language": "python",
   "name": "python3"
  },
  "language_info": {
   "codemirror_mode": {
    "name": "ipython",
    "version": 3
   },
   "file_extension": ".py",
   "mimetype": "text/x-python",
   "name": "python",
   "nbconvert_exporter": "python",
   "pygments_lexer": "ipython3",
   "version": "3.8.5"
  }
 },
 "nbformat": 4,
 "nbformat_minor": 4
}
